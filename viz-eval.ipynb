{
 "cells": [
  {
   "cell_type": "code",
   "execution_count": 63,
   "metadata": {},
   "outputs": [
    {
     "name": "stdout",
     "output_type": "stream",
     "text": [
      "Requirement already satisfied: plotly in ./.venv/lib/python3.12/site-packages (5.24.1)\n",
      "Requirement already satisfied: nbformat>=4.2.0 in ./.venv/lib/python3.12/site-packages (5.10.4)\n",
      "Requirement already satisfied: numpy in ./.venv/lib/python3.12/site-packages (2.2.1)\n",
      "Requirement already satisfied: kaleido in ./.venv/lib/python3.12/site-packages (0.2.1)\n",
      "Requirement already satisfied: pm4py in ./.venv/lib/python3.12/site-packages (2.7.12.4)\n",
      "Requirement already satisfied: tenacity>=6.2.0 in ./.venv/lib/python3.12/site-packages (from plotly) (9.0.0)\n",
      "Requirement already satisfied: packaging in ./.venv/lib/python3.12/site-packages (from plotly) (24.2)\n",
      "Requirement already satisfied: fastjsonschema>=2.15 in ./.venv/lib/python3.12/site-packages (from nbformat>=4.2.0) (2.21.1)\n",
      "Requirement already satisfied: jsonschema>=2.6 in ./.venv/lib/python3.12/site-packages (from nbformat>=4.2.0) (4.23.0)\n",
      "Requirement already satisfied: jupyter-core!=5.0.*,>=4.12 in ./.venv/lib/python3.12/site-packages (from nbformat>=4.2.0) (5.7.2)\n",
      "Requirement already satisfied: traitlets>=5.1 in ./.venv/lib/python3.12/site-packages (from nbformat>=4.2.0) (5.14.3)\n",
      "Requirement already satisfied: pandas in ./.venv/lib/python3.12/site-packages (from pm4py) (2.2.3)\n",
      "Requirement already satisfied: deprecation in ./.venv/lib/python3.12/site-packages (from pm4py) (2.1.0)\n",
      "Requirement already satisfied: networkx in ./.venv/lib/python3.12/site-packages (from pm4py) (3.4.2)\n",
      "Requirement already satisfied: graphviz in ./.venv/lib/python3.12/site-packages (from pm4py) (0.20.3)\n",
      "Requirement already satisfied: wheel in ./.venv/lib/python3.12/site-packages (from pm4py) (0.45.1)\n",
      "Requirement already satisfied: setuptools in ./.venv/lib/python3.12/site-packages (from pm4py) (75.7.0)\n",
      "Requirement already satisfied: intervaltree in ./.venv/lib/python3.12/site-packages (from pm4py) (3.1.0)\n",
      "Requirement already satisfied: lxml in ./.venv/lib/python3.12/site-packages (from pm4py) (5.3.0)\n",
      "Requirement already satisfied: matplotlib in ./.venv/lib/python3.12/site-packages (from pm4py) (3.10.0)\n",
      "Requirement already satisfied: pydotplus in ./.venv/lib/python3.12/site-packages (from pm4py) (2.0.2)\n",
      "Requirement already satisfied: pytz in ./.venv/lib/python3.12/site-packages (from pm4py) (2024.2)\n",
      "Requirement already satisfied: scipy in ./.venv/lib/python3.12/site-packages (from pm4py) (1.15.0)\n",
      "Requirement already satisfied: tqdm in ./.venv/lib/python3.12/site-packages (from pm4py) (4.67.1)\n",
      "Requirement already satisfied: cvxopt in ./.venv/lib/python3.12/site-packages (from pm4py) (1.3.2)\n",
      "Requirement already satisfied: attrs>=22.2.0 in ./.venv/lib/python3.12/site-packages (from jsonschema>=2.6->nbformat>=4.2.0) (24.3.0)\n",
      "Requirement already satisfied: jsonschema-specifications>=2023.03.6 in ./.venv/lib/python3.12/site-packages (from jsonschema>=2.6->nbformat>=4.2.0) (2024.10.1)\n",
      "Requirement already satisfied: referencing>=0.28.4 in ./.venv/lib/python3.12/site-packages (from jsonschema>=2.6->nbformat>=4.2.0) (0.35.1)\n",
      "Requirement already satisfied: rpds-py>=0.7.1 in ./.venv/lib/python3.12/site-packages (from jsonschema>=2.6->nbformat>=4.2.0) (0.22.3)\n",
      "Requirement already satisfied: platformdirs>=2.5 in ./.venv/lib/python3.12/site-packages (from jupyter-core!=5.0.*,>=4.12->nbformat>=4.2.0) (4.3.6)\n",
      "Requirement already satisfied: sortedcontainers<3.0,>=2.0 in ./.venv/lib/python3.12/site-packages (from intervaltree->pm4py) (2.4.0)\n",
      "Requirement already satisfied: contourpy>=1.0.1 in ./.venv/lib/python3.12/site-packages (from matplotlib->pm4py) (1.3.1)\n",
      "Requirement already satisfied: cycler>=0.10 in ./.venv/lib/python3.12/site-packages (from matplotlib->pm4py) (0.12.1)\n",
      "Requirement already satisfied: fonttools>=4.22.0 in ./.venv/lib/python3.12/site-packages (from matplotlib->pm4py) (4.55.3)\n",
      "Requirement already satisfied: kiwisolver>=1.3.1 in ./.venv/lib/python3.12/site-packages (from matplotlib->pm4py) (1.4.8)\n",
      "Requirement already satisfied: pillow>=8 in ./.venv/lib/python3.12/site-packages (from matplotlib->pm4py) (11.1.0)\n",
      "Requirement already satisfied: pyparsing>=2.3.1 in ./.venv/lib/python3.12/site-packages (from matplotlib->pm4py) (3.2.1)\n",
      "Requirement already satisfied: python-dateutil>=2.7 in ./.venv/lib/python3.12/site-packages (from matplotlib->pm4py) (2.9.0.post0)\n",
      "Requirement already satisfied: tzdata>=2022.7 in ./.venv/lib/python3.12/site-packages (from pandas->pm4py) (2024.2)\n",
      "Requirement already satisfied: six>=1.5 in ./.venv/lib/python3.12/site-packages (from python-dateutil>=2.7->matplotlib->pm4py) (1.17.0)\n"
     ]
    }
   ],
   "source": [
    "!pip install \"plotly\" \"nbformat>=4.2.0\" \"numpy\" \"kaleido\" \"pm4py\""
   ]
  },
  {
   "cell_type": "code",
   "execution_count": 64,
   "metadata": {},
   "outputs": [],
   "source": [
    "# import pm4py\n",
    "# ocel = pm4py.read_ocel2(\"/home/aarkue/dow/bpic2017-o2o-workflow-qualifier.json\")\n",
    "# pm4py.write_ocel2_sqlite(ocel,\"/home/aarkue/dow/bpic2017-o2o-workflow-qualifier.sqlite\")\n",
    "# # pm4py.write_ocel_json(ocel,\"/home/aarkue/dow/OLD_bpic2017-o2o-workflow-qualifier.jsonocel\")"
   ]
  },
  {
   "cell_type": "code",
   "execution_count": null,
   "metadata": {},
   "outputs": [],
   "source": []
  },
  {
   "cell_type": "code",
   "execution_count": 65,
   "metadata": {},
   "outputs": [],
   "source": [
    "queries = ['Q1', 'Q2', 'Q3','Q4','Q5','Q6','Q7']\n",
    "binary_approaches = ['OCBC','OCCG', 'DECLARE']\n",
    "approaches = ['OCPQ','SQL','Neo4J', *binary_approaches]"
   ]
  },
  {
   "cell_type": "code",
   "execution_count": 66,
   "metadata": {},
   "outputs": [],
   "source": [
    "import json\n",
    "import numpy as np\n",
    "res = {}\n",
    "for q in queries:\n",
    "    res[q] = {}\n",
    "    for a in approaches:\n",
    "        try:\n",
    "            with open(f\"./{q}/{a.lower()}-res.json\") as f:\n",
    "                res[q][a] = json.load(f)\n",
    "        except:\n",
    "                res[q][a] = False"
   ]
  },
  {
   "cell_type": "code",
   "execution_count": 67,
   "metadata": {},
   "outputs": [
    {
     "name": "stdout",
     "output_type": "stream",
     "text": [
      "9.706050000000001\n"
     ]
    }
   ],
   "source": [
    "res['Q1']['DECLARE'] = True\n",
    "res['Q2']['DECLARE'] = True\n",
    "res['Q3']['DECLARE'] = False\n",
    "res['Q4']['DECLARE'] = False\n",
    "res['Q5']['DECLARE'] = False\n",
    "res['Q6']['DECLARE'] = False\n",
    "res['Q7']['DECLARE'] = False\n",
    "\n",
    "\n",
    "\n",
    "res['Q1']['OCCG'] = False\n",
    "res['Q2']['OCCG'] = True\n",
    "res['Q3']['OCCG'] = True\n",
    "res['Q4']['OCCG'] = False\n",
    "res['Q5']['OCCG'] = False\n",
    "res['Q6']['OCCG'] = False\n",
    "res['Q7']['OCCG'] = False\n",
    "\n",
    "\n",
    "res['Q1']['OCBC'] = True\n",
    "res['Q2']['OCBC'] = True\n",
    "res['Q3']['OCBC'] = True\n",
    "res['Q4']['OCBC'] = True\n",
    "res['Q5']['OCBC'] = False # Not so sure, double check!\n",
    "res['Q6']['OCBC'] = False\n",
    "res['Q7']['OCBC'] = False\n",
    "\n",
    "print(res['Q6']['SQL'][0]/60)\n",
    "res['Q6']['SQL'] = \"⧗\""
   ]
  },
  {
   "cell_type": "code",
   "execution_count": 68,
   "metadata": {},
   "outputs": [
    {
     "data": {
      "application/vnd.plotly.v1+json": {
       "config": {
        "plotlyServerURL": "https://plot.ly"
       },
       "data": [
        {
         "colorbar": {
          "title": {
           "font": {
            "size": 16
           },
           "side": "bottom",
           "text": "Duration (ms)"
          }
         },
         "colorscale": [
          [
           0,
           "rgb(0,69,41)"
          ],
          [
           0.125,
           "rgb(0,104,55)"
          ],
          [
           0.25,
           "rgb(35,132,67)"
          ],
          [
           0.375,
           "rgb(65,171,93)"
          ],
          [
           0.5,
           "rgb(120,198,121)"
          ],
          [
           0.625,
           "rgb(173,221,142)"
          ],
          [
           0.75,
           "rgb(217,240,163)"
          ],
          [
           0.875,
           "rgb(247,252,185)"
          ],
          [
           1,
           "rgb(255,255,229)"
          ]
         ],
         "text": [
          [
           "37ms",
           "58ms",
           "23ms",
           "67ms",
           "69ms",
           "84ms",
           "80ms"
          ],
          [
           "579ms",
           "1505ms",
           "77ms",
           "2417ms",
           "1097ms",
           "",
           "3006ms"
          ],
          [
           "903ms",
           "1058ms",
           "653ms",
           "1093ms",
           "1334ms",
           "725ms",
           "1530ms"
          ],
          [
           "",
           "",
           "",
           "",
           "",
           "",
           ""
          ],
          [
           "",
           "",
           "",
           "",
           "",
           "",
           ""
          ],
          [
           "",
           "",
           "",
           "",
           "",
           "",
           ""
          ]
         ],
         "textfont": {
          "size": 20
         },
         "texttemplate": "%{text}",
         "type": "heatmap",
         "x": [
          "Q1",
          "Q2",
          "Q3",
          "Q4",
          "Q5",
          "Q6",
          "Q7"
         ],
         "y": [
          "<b>OCPQ</b>",
          "SQLite",
          "Neo4J",
          "OCBC",
          "OCCG",
          "DECLARE"
         ],
         "z": [
          [
           37.426816,
           57.868091199999995,
           22.8635123,
           67.105166,
           68.54138619999999,
           84.44155810000001,
           79.85276580000001
          ],
          [
           578.6,
           1504.6,
           76.99999999999999,
           2417.3999999999996,
           1097.1,
           null,
           3006.2
          ],
          [
           902.8000000000001,
           1057.5,
           652.5000000000001,
           1092.8,
           1333.6999999999998,
           725.1999999999999,
           1530.5
          ],
          [
           null,
           null,
           null,
           null,
           null,
           null,
           null
          ],
          [
           null,
           null,
           null,
           null,
           null,
           null,
           null
          ],
          [
           null,
           null,
           null,
           null,
           null,
           null,
           null
          ]
         ]
        }
       ],
       "layout": {
        "annotations": [
         {
          "font": {
           "color": "green",
           "size": 32
          },
          "showarrow": false,
          "text": "✔",
          "x": 0,
          "y": 3
         },
         {
          "font": {
           "color": "lightgray",
           "size": 32
          },
          "showarrow": false,
          "text": "✗",
          "x": 0,
          "y": 4
         },
         {
          "font": {
           "color": "green",
           "size": 32
          },
          "showarrow": false,
          "text": "✔",
          "x": 0,
          "y": 5
         },
         {
          "font": {
           "color": "green",
           "size": 32
          },
          "showarrow": false,
          "text": "✔",
          "x": 1,
          "y": 3
         },
         {
          "font": {
           "color": "green",
           "size": 32
          },
          "showarrow": false,
          "text": "✔",
          "x": 1,
          "y": 4
         },
         {
          "font": {
           "color": "green",
           "size": 32
          },
          "showarrow": false,
          "text": "✔",
          "x": 1,
          "y": 5
         },
         {
          "font": {
           "color": "green",
           "size": 32
          },
          "showarrow": false,
          "text": "✔",
          "x": 2,
          "y": 3
         },
         {
          "font": {
           "color": "green",
           "size": 32
          },
          "showarrow": false,
          "text": "✔",
          "x": 2,
          "y": 4
         },
         {
          "font": {
           "color": "lightgray",
           "size": 32
          },
          "showarrow": false,
          "text": "✗",
          "x": 2,
          "y": 5
         },
         {
          "font": {
           "color": "green",
           "size": 32
          },
          "showarrow": false,
          "text": "✔",
          "x": 3,
          "y": 3
         },
         {
          "font": {
           "color": "lightgray",
           "size": 32
          },
          "showarrow": false,
          "text": "✗",
          "x": 3,
          "y": 4
         },
         {
          "font": {
           "color": "lightgray",
           "size": 32
          },
          "showarrow": false,
          "text": "✗",
          "x": 3,
          "y": 5
         },
         {
          "font": {
           "color": "lightgray",
           "size": 32
          },
          "showarrow": false,
          "text": "✗",
          "x": 4,
          "y": 3
         },
         {
          "font": {
           "color": "lightgray",
           "size": 32
          },
          "showarrow": false,
          "text": "✗",
          "x": 4,
          "y": 4
         },
         {
          "font": {
           "color": "lightgray",
           "size": 32
          },
          "showarrow": false,
          "text": "✗",
          "x": 4,
          "y": 5
         },
         {
          "font": {
           "color": "gray",
           "size": 32
          },
          "showarrow": false,
          "text": "⧗",
          "x": 5,
          "y": 1
         },
         {
          "font": {
           "color": "lightgray",
           "size": 32
          },
          "showarrow": false,
          "text": "✗",
          "x": 5,
          "y": 3
         },
         {
          "font": {
           "color": "lightgray",
           "size": 32
          },
          "showarrow": false,
          "text": "✗",
          "x": 5,
          "y": 4
         },
         {
          "font": {
           "color": "lightgray",
           "size": 32
          },
          "showarrow": false,
          "text": "✗",
          "x": 5,
          "y": 5
         },
         {
          "font": {
           "color": "lightgray",
           "size": 32
          },
          "showarrow": false,
          "text": "✗",
          "x": 6,
          "y": 3
         },
         {
          "font": {
           "color": "lightgray",
           "size": 32
          },
          "showarrow": false,
          "text": "✗",
          "x": 6,
          "y": 4
         },
         {
          "font": {
           "color": "lightgray",
           "size": 32
          },
          "showarrow": false,
          "text": "✗",
          "x": 6,
          "y": 5
         }
        ],
        "autosize": false,
        "font": {
         "size": 24
        },
        "height": 500,
        "template": {
         "data": {
          "bar": [
           {
            "error_x": {
             "color": "#2a3f5f"
            },
            "error_y": {
             "color": "#2a3f5f"
            },
            "marker": {
             "line": {
              "color": "white",
              "width": 0.5
             },
             "pattern": {
              "fillmode": "overlay",
              "size": 10,
              "solidity": 0.2
             }
            },
            "type": "bar"
           }
          ],
          "barpolar": [
           {
            "marker": {
             "line": {
              "color": "white",
              "width": 0.5
             },
             "pattern": {
              "fillmode": "overlay",
              "size": 10,
              "solidity": 0.2
             }
            },
            "type": "barpolar"
           }
          ],
          "carpet": [
           {
            "aaxis": {
             "endlinecolor": "#2a3f5f",
             "gridcolor": "#C8D4E3",
             "linecolor": "#C8D4E3",
             "minorgridcolor": "#C8D4E3",
             "startlinecolor": "#2a3f5f"
            },
            "baxis": {
             "endlinecolor": "#2a3f5f",
             "gridcolor": "#C8D4E3",
             "linecolor": "#C8D4E3",
             "minorgridcolor": "#C8D4E3",
             "startlinecolor": "#2a3f5f"
            },
            "type": "carpet"
           }
          ],
          "choropleth": [
           {
            "colorbar": {
             "outlinewidth": 0,
             "ticks": ""
            },
            "type": "choropleth"
           }
          ],
          "contour": [
           {
            "colorbar": {
             "outlinewidth": 0,
             "ticks": ""
            },
            "colorscale": [
             [
              0,
              "#0d0887"
             ],
             [
              0.1111111111111111,
              "#46039f"
             ],
             [
              0.2222222222222222,
              "#7201a8"
             ],
             [
              0.3333333333333333,
              "#9c179e"
             ],
             [
              0.4444444444444444,
              "#bd3786"
             ],
             [
              0.5555555555555556,
              "#d8576b"
             ],
             [
              0.6666666666666666,
              "#ed7953"
             ],
             [
              0.7777777777777778,
              "#fb9f3a"
             ],
             [
              0.8888888888888888,
              "#fdca26"
             ],
             [
              1,
              "#f0f921"
             ]
            ],
            "type": "contour"
           }
          ],
          "contourcarpet": [
           {
            "colorbar": {
             "outlinewidth": 0,
             "ticks": ""
            },
            "type": "contourcarpet"
           }
          ],
          "heatmap": [
           {
            "colorbar": {
             "outlinewidth": 0,
             "ticks": ""
            },
            "colorscale": [
             [
              0,
              "#0d0887"
             ],
             [
              0.1111111111111111,
              "#46039f"
             ],
             [
              0.2222222222222222,
              "#7201a8"
             ],
             [
              0.3333333333333333,
              "#9c179e"
             ],
             [
              0.4444444444444444,
              "#bd3786"
             ],
             [
              0.5555555555555556,
              "#d8576b"
             ],
             [
              0.6666666666666666,
              "#ed7953"
             ],
             [
              0.7777777777777778,
              "#fb9f3a"
             ],
             [
              0.8888888888888888,
              "#fdca26"
             ],
             [
              1,
              "#f0f921"
             ]
            ],
            "type": "heatmap"
           }
          ],
          "heatmapgl": [
           {
            "colorbar": {
             "outlinewidth": 0,
             "ticks": ""
            },
            "colorscale": [
             [
              0,
              "#0d0887"
             ],
             [
              0.1111111111111111,
              "#46039f"
             ],
             [
              0.2222222222222222,
              "#7201a8"
             ],
             [
              0.3333333333333333,
              "#9c179e"
             ],
             [
              0.4444444444444444,
              "#bd3786"
             ],
             [
              0.5555555555555556,
              "#d8576b"
             ],
             [
              0.6666666666666666,
              "#ed7953"
             ],
             [
              0.7777777777777778,
              "#fb9f3a"
             ],
             [
              0.8888888888888888,
              "#fdca26"
             ],
             [
              1,
              "#f0f921"
             ]
            ],
            "type": "heatmapgl"
           }
          ],
          "histogram": [
           {
            "marker": {
             "pattern": {
              "fillmode": "overlay",
              "size": 10,
              "solidity": 0.2
             }
            },
            "type": "histogram"
           }
          ],
          "histogram2d": [
           {
            "colorbar": {
             "outlinewidth": 0,
             "ticks": ""
            },
            "colorscale": [
             [
              0,
              "#0d0887"
             ],
             [
              0.1111111111111111,
              "#46039f"
             ],
             [
              0.2222222222222222,
              "#7201a8"
             ],
             [
              0.3333333333333333,
              "#9c179e"
             ],
             [
              0.4444444444444444,
              "#bd3786"
             ],
             [
              0.5555555555555556,
              "#d8576b"
             ],
             [
              0.6666666666666666,
              "#ed7953"
             ],
             [
              0.7777777777777778,
              "#fb9f3a"
             ],
             [
              0.8888888888888888,
              "#fdca26"
             ],
             [
              1,
              "#f0f921"
             ]
            ],
            "type": "histogram2d"
           }
          ],
          "histogram2dcontour": [
           {
            "colorbar": {
             "outlinewidth": 0,
             "ticks": ""
            },
            "colorscale": [
             [
              0,
              "#0d0887"
             ],
             [
              0.1111111111111111,
              "#46039f"
             ],
             [
              0.2222222222222222,
              "#7201a8"
             ],
             [
              0.3333333333333333,
              "#9c179e"
             ],
             [
              0.4444444444444444,
              "#bd3786"
             ],
             [
              0.5555555555555556,
              "#d8576b"
             ],
             [
              0.6666666666666666,
              "#ed7953"
             ],
             [
              0.7777777777777778,
              "#fb9f3a"
             ],
             [
              0.8888888888888888,
              "#fdca26"
             ],
             [
              1,
              "#f0f921"
             ]
            ],
            "type": "histogram2dcontour"
           }
          ],
          "mesh3d": [
           {
            "colorbar": {
             "outlinewidth": 0,
             "ticks": ""
            },
            "type": "mesh3d"
           }
          ],
          "parcoords": [
           {
            "line": {
             "colorbar": {
              "outlinewidth": 0,
              "ticks": ""
             }
            },
            "type": "parcoords"
           }
          ],
          "pie": [
           {
            "automargin": true,
            "type": "pie"
           }
          ],
          "scatter": [
           {
            "fillpattern": {
             "fillmode": "overlay",
             "size": 10,
             "solidity": 0.2
            },
            "type": "scatter"
           }
          ],
          "scatter3d": [
           {
            "line": {
             "colorbar": {
              "outlinewidth": 0,
              "ticks": ""
             }
            },
            "marker": {
             "colorbar": {
              "outlinewidth": 0,
              "ticks": ""
             }
            },
            "type": "scatter3d"
           }
          ],
          "scattercarpet": [
           {
            "marker": {
             "colorbar": {
              "outlinewidth": 0,
              "ticks": ""
             }
            },
            "type": "scattercarpet"
           }
          ],
          "scattergeo": [
           {
            "marker": {
             "colorbar": {
              "outlinewidth": 0,
              "ticks": ""
             }
            },
            "type": "scattergeo"
           }
          ],
          "scattergl": [
           {
            "marker": {
             "colorbar": {
              "outlinewidth": 0,
              "ticks": ""
             }
            },
            "type": "scattergl"
           }
          ],
          "scattermapbox": [
           {
            "marker": {
             "colorbar": {
              "outlinewidth": 0,
              "ticks": ""
             }
            },
            "type": "scattermapbox"
           }
          ],
          "scatterpolar": [
           {
            "marker": {
             "colorbar": {
              "outlinewidth": 0,
              "ticks": ""
             }
            },
            "type": "scatterpolar"
           }
          ],
          "scatterpolargl": [
           {
            "marker": {
             "colorbar": {
              "outlinewidth": 0,
              "ticks": ""
             }
            },
            "type": "scatterpolargl"
           }
          ],
          "scatterternary": [
           {
            "marker": {
             "colorbar": {
              "outlinewidth": 0,
              "ticks": ""
             }
            },
            "type": "scatterternary"
           }
          ],
          "surface": [
           {
            "colorbar": {
             "outlinewidth": 0,
             "ticks": ""
            },
            "colorscale": [
             [
              0,
              "#0d0887"
             ],
             [
              0.1111111111111111,
              "#46039f"
             ],
             [
              0.2222222222222222,
              "#7201a8"
             ],
             [
              0.3333333333333333,
              "#9c179e"
             ],
             [
              0.4444444444444444,
              "#bd3786"
             ],
             [
              0.5555555555555556,
              "#d8576b"
             ],
             [
              0.6666666666666666,
              "#ed7953"
             ],
             [
              0.7777777777777778,
              "#fb9f3a"
             ],
             [
              0.8888888888888888,
              "#fdca26"
             ],
             [
              1,
              "#f0f921"
             ]
            ],
            "type": "surface"
           }
          ],
          "table": [
           {
            "cells": {
             "fill": {
              "color": "#EBF0F8"
             },
             "line": {
              "color": "white"
             }
            },
            "header": {
             "fill": {
              "color": "#C8D4E3"
             },
             "line": {
              "color": "white"
             }
            },
            "type": "table"
           }
          ]
         },
         "layout": {
          "annotationdefaults": {
           "arrowcolor": "#2a3f5f",
           "arrowhead": 0,
           "arrowwidth": 1
          },
          "autotypenumbers": "strict",
          "coloraxis": {
           "colorbar": {
            "outlinewidth": 0,
            "ticks": ""
           }
          },
          "colorscale": {
           "diverging": [
            [
             0,
             "#8e0152"
            ],
            [
             0.1,
             "#c51b7d"
            ],
            [
             0.2,
             "#de77ae"
            ],
            [
             0.3,
             "#f1b6da"
            ],
            [
             0.4,
             "#fde0ef"
            ],
            [
             0.5,
             "#f7f7f7"
            ],
            [
             0.6,
             "#e6f5d0"
            ],
            [
             0.7,
             "#b8e186"
            ],
            [
             0.8,
             "#7fbc41"
            ],
            [
             0.9,
             "#4d9221"
            ],
            [
             1,
             "#276419"
            ]
           ],
           "sequential": [
            [
             0,
             "#0d0887"
            ],
            [
             0.1111111111111111,
             "#46039f"
            ],
            [
             0.2222222222222222,
             "#7201a8"
            ],
            [
             0.3333333333333333,
             "#9c179e"
            ],
            [
             0.4444444444444444,
             "#bd3786"
            ],
            [
             0.5555555555555556,
             "#d8576b"
            ],
            [
             0.6666666666666666,
             "#ed7953"
            ],
            [
             0.7777777777777778,
             "#fb9f3a"
            ],
            [
             0.8888888888888888,
             "#fdca26"
            ],
            [
             1,
             "#f0f921"
            ]
           ],
           "sequentialminus": [
            [
             0,
             "#0d0887"
            ],
            [
             0.1111111111111111,
             "#46039f"
            ],
            [
             0.2222222222222222,
             "#7201a8"
            ],
            [
             0.3333333333333333,
             "#9c179e"
            ],
            [
             0.4444444444444444,
             "#bd3786"
            ],
            [
             0.5555555555555556,
             "#d8576b"
            ],
            [
             0.6666666666666666,
             "#ed7953"
            ],
            [
             0.7777777777777778,
             "#fb9f3a"
            ],
            [
             0.8888888888888888,
             "#fdca26"
            ],
            [
             1,
             "#f0f921"
            ]
           ]
          },
          "colorway": [
           "#636efa",
           "#EF553B",
           "#00cc96",
           "#ab63fa",
           "#FFA15A",
           "#19d3f3",
           "#FF6692",
           "#B6E880",
           "#FF97FF",
           "#FECB52"
          ],
          "font": {
           "color": "#2a3f5f"
          },
          "geo": {
           "bgcolor": "white",
           "lakecolor": "white",
           "landcolor": "white",
           "showlakes": true,
           "showland": true,
           "subunitcolor": "#C8D4E3"
          },
          "hoverlabel": {
           "align": "left"
          },
          "hovermode": "closest",
          "mapbox": {
           "style": "light"
          },
          "paper_bgcolor": "white",
          "plot_bgcolor": "white",
          "polar": {
           "angularaxis": {
            "gridcolor": "#EBF0F8",
            "linecolor": "#EBF0F8",
            "ticks": ""
           },
           "bgcolor": "white",
           "radialaxis": {
            "gridcolor": "#EBF0F8",
            "linecolor": "#EBF0F8",
            "ticks": ""
           }
          },
          "scene": {
           "xaxis": {
            "backgroundcolor": "white",
            "gridcolor": "#DFE8F3",
            "gridwidth": 2,
            "linecolor": "#EBF0F8",
            "showbackground": true,
            "ticks": "",
            "zerolinecolor": "#EBF0F8"
           },
           "yaxis": {
            "backgroundcolor": "white",
            "gridcolor": "#DFE8F3",
            "gridwidth": 2,
            "linecolor": "#EBF0F8",
            "showbackground": true,
            "ticks": "",
            "zerolinecolor": "#EBF0F8"
           },
           "zaxis": {
            "backgroundcolor": "white",
            "gridcolor": "#DFE8F3",
            "gridwidth": 2,
            "linecolor": "#EBF0F8",
            "showbackground": true,
            "ticks": "",
            "zerolinecolor": "#EBF0F8"
           }
          },
          "shapedefaults": {
           "line": {
            "color": "#2a3f5f"
           }
          },
          "ternary": {
           "aaxis": {
            "gridcolor": "#DFE8F3",
            "linecolor": "#A2B1C6",
            "ticks": ""
           },
           "baxis": {
            "gridcolor": "#DFE8F3",
            "linecolor": "#A2B1C6",
            "ticks": ""
           },
           "bgcolor": "white",
           "caxis": {
            "gridcolor": "#DFE8F3",
            "linecolor": "#A2B1C6",
            "ticks": ""
           }
          },
          "title": {
           "x": 0.05
          },
          "xaxis": {
           "automargin": true,
           "gridcolor": "#EBF0F8",
           "linecolor": "#EBF0F8",
           "ticks": "",
           "title": {
            "standoff": 15
           },
           "zerolinecolor": "#EBF0F8",
           "zerolinewidth": 2
          },
          "yaxis": {
           "automargin": true,
           "gridcolor": "#EBF0F8",
           "linecolor": "#EBF0F8",
           "ticks": "",
           "title": {
            "standoff": 15
           },
           "zerolinecolor": "#EBF0F8",
           "zerolinewidth": 2
          }
         }
        },
        "title": {
         "text": ""
        },
        "width": 1000,
        "xaxis": {
         "showgrid": true,
         "tickson": "boundaries",
         "title": {
          "text": "Query"
         }
        },
        "yaxis": {
         "showgrid": true,
         "tickson": "boundaries",
         "ticksuffix": " ",
         "title": {
          "text": "Approach"
         }
        }
       }
      }
     },
     "metadata": {},
     "output_type": "display_data"
    }
   ],
   "source": [
    "import plotly.graph_objects as go\n",
    "import plotly.colors as colors_sq\n",
    "import numpy as np\n",
    "fig = go.Figure(data=go.Heatmap(\n",
    "                    z=[[None if (a in binary_approaches or (res[q][a] == False) or (type(res[q][a]) == str)) else 1000 * np.mean(res[q][a]) for q in queries] for a in approaches],\n",
    "                    x=queries,\n",
    "                    y=[f\"<b>{a}</b>\" if a == \"OCPQ\" else a if a != \"SQL\" else \"SQLite\" for a in approaches],\n",
    "                    text=[\n",
    "                            [\n",
    "                                #str(res[q][a])\n",
    "                                  \"\" if (a in binary_approaches or (res[q][a] == False)  or (type(res[q][a]) == str))  else\n",
    "                            \"\" if np.isnan(np.mean(res[q][a])) else f\"{np.round(1000 * np.mean(res[q][a]),0):.0f}ms\"\n",
    "                            for q in queries]\n",
    "                          for a in approaches],\n",
    "                    texttemplate=\"%{text}\",\n",
    "                    textfont={\"size\":20},\n",
    "                    colorscale=colors_sq.sequential.YlGn_r,\n",
    "                    # colorscale=colors_sq.sequential.speed_r,\n",
    "                    # colorscale=colors_sq.sequential.gray,\n",
    "                    # colorscale=colors_sq.sequential.Burgyl,\n",
    "                    colorbar=dict(title=dict(text=\"Duration (ms)\",side=\"bottom\", font=dict(size = 16))),\n",
    "                    ))\n",
    "fig.update_yaxes(ticksuffix = \" \", title = \"Approach\", showgrid=True, tickson='boundaries')\n",
    "fig.update_xaxes(title = \"Query\", showgrid=True,tickson='boundaries')\n",
    "fig.update_layout(font=dict(\n",
    "        size=24,\n",
    "    ),\n",
    "    autosize=False,\n",
    "    width=1000,\n",
    "    height=500,\n",
    "    template=\"plotly_white\",\n",
    "    title=\"\"\n",
    "    # color = \"Duration\",\n",
    "    )\n",
    "for q_i in range(len(queries)):\n",
    "    for a_i in range(len(approaches)):\n",
    "        q = queries[q_i]\n",
    "        a = approaches[a_i]\n",
    "        if a in binary_approaches or res[q][a] == False or type(res[q][a]) == str:\n",
    "            fig.add_annotation(\n",
    "                x=q_i,y=a_i,text=\"✔\" if res[q][a] == True else \"✗\" if res[q][a] == False else res[q][a],\n",
    "                showarrow=False,\n",
    "                font=dict(size=32, color=\"green\" if res[q][a] == True else \"lightgray\" if res[q][a] == False else \"gray\"))\n",
    "            # or lightsalmon\n",
    "fig.show()\n",
    "fig.write_image(\"heatmap.svg\")\n",
    "fig.write_image(\"heatmap.pdf\")"
   ]
  }
 ],
 "metadata": {
  "kernelspec": {
   "display_name": ".venv",
   "language": "python",
   "name": "python3"
  },
  "language_info": {
   "codemirror_mode": {
    "name": "ipython",
    "version": 3
   },
   "file_extension": ".py",
   "mimetype": "text/x-python",
   "name": "python",
   "nbconvert_exporter": "python",
   "pygments_lexer": "ipython3",
   "version": "3.12.7"
  }
 },
 "nbformat": 4,
 "nbformat_minor": 2
}
