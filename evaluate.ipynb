{
 "cells": [
  {
   "cell_type": "code",
   "execution_count": 1,
   "metadata": {},
   "outputs": [
    {
     "name": "stdout",
     "output_type": "stream",
     "text": [
      "Requirement already satisfied: duckdb in ./.venv/lib/python3.13/site-packages (1.2.1)\n",
      "Requirement already satisfied: numpy in ./.venv/lib/python3.13/site-packages (2.2.4)\n",
      "\n",
      "\u001b[1m[\u001b[0m\u001b[34;49mnotice\u001b[0m\u001b[1;39;49m]\u001b[0m\u001b[39;49m A new release of pip is available: \u001b[0m\u001b[31;49m24.3.1\u001b[0m\u001b[39;49m -> \u001b[0m\u001b[32;49m25.0.1\u001b[0m\n",
      "\u001b[1m[\u001b[0m\u001b[34;49mnotice\u001b[0m\u001b[1;39;49m]\u001b[0m\u001b[39;49m To update, run: \u001b[0m\u001b[32;49mpip install --upgrade pip\u001b[0m\n",
      "Note: you may need to restart the kernel to use updated packages.\n"
     ]
    }
   ],
   "source": [
    "%pip install duckdb numpy"
   ]
  },
  {
   "cell_type": "code",
   "execution_count": 2,
   "metadata": {},
   "outputs": [],
   "source": [
    "import sqlite3\n",
    "import duckdb\n",
    "sqlite_path = \"./bpic2017.sqlite\"\n",
    "duckdb_path = \"./bpic2017.duckdb\"\n",
    "query_names = {\"sqlite\": \"sql.txt\", \"duckdb\": \"sql.txt\"}\n",
    "result_names = {\"sqlite\": \"sqlite-res.json\", \"duckdb\": \"duckdb-res.json\"}\n",
    "queries = [\"Q1\",\"Q2\",\"Q3\",\"Q4\",\"Q5\",\"Q6\",\"Q7\"]\n",
    "N = 10\n",
    "def load_db(db):\n",
    "    if db == \"sqlite\":\n",
    "        source = sqlite3.connect(sqlite_path)\n",
    "        # return source\n",
    "        target = sqlite3.connect(\":memory:\")\n",
    "        source.backup(target)\n",
    "        return target\n",
    "    if db == \"duckdb\":\n",
    "        return duckdb.connect(duckdb_path)\n",
    "def run_query(con,sql,db):\n",
    "    if db == \"sqlite\":\n",
    "        return con.execute(sql).fetchall()\n",
    "    if db == \"duckdb\":\n",
    "        return con.execute(sql).fetchall()"
   ]
  },
  {
   "cell_type": "code",
   "execution_count": 3,
   "metadata": {},
   "outputs": [
    {
     "name": "stdout",
     "output_type": "stream",
     "text": [
      "sqlite for Q1 counted 31509 and took 328.46102714538574\n",
      "sqlite for Q2 counted 42995 and took 507.8486442565918\n",
      "sqlite for Q3 counted 23305 and took 360.14030774434406\n",
      "sqlite for Q4 counted 31509 and took 671.8177020549774\n",
      "sqlite for Q5 counted 31509 and took 677.9079294204712\n",
      "sqlite for Q7 counted 74771 and took 860.1482351620991\n",
      "duckdb for Q1 counted 31509 and took 46.17507457733154\n",
      "duckdb for Q2 counted 42995 and took 73.35022687911987\n",
      "duckdb for Q3 counted 23305 and took 66.95912679036459\n",
      "duckdb for Q4 counted 31509 and took 81.05118870735168\n",
      "duckdb for Q5 counted 31509 and took 138.81301403045654\n",
      "duckdb for Q6 counted 1 and took 130.39328257242838\n",
      "duckdb for Q7 counted 74771 and took 152.24860055106026\n"
     ]
    }
   ],
   "source": [
    "import time\n",
    "import numpy as np\n",
    "import json\n",
    "for db in [\"sqlite\",\"duckdb\"]:\n",
    "    count = None\n",
    "    durations = []\n",
    "    for q in queries:\n",
    "        if db == \"sqlite\" and q == \"Q6\": #Timeout!\n",
    "            continue\n",
    "        with open(f\"{q}/{query_names[db]}\") as f:\n",
    "            sql = f.read()\n",
    "            for i in range(0,N):\n",
    "                con = load_db(db)\n",
    "                start = time.time()\n",
    "                qres = run_query(con,sql,db)\n",
    "                duration = time.time() - start\n",
    "                con.close()\n",
    "                count = len(qres)\n",
    "                durations.append(duration)\n",
    "            with open(f\"{q}/{result_names[db]}\",\"w\") as f:\n",
    "                json.dump(durations,f)\n",
    "            print(f\"{db} for {q} counted {count} and took {1000*np.mean(durations)}\")\n"
   ]
  }
 ],
 "metadata": {
  "kernelspec": {
   "display_name": ".venv",
   "language": "python",
   "name": "python3"
  },
  "language_info": {
   "codemirror_mode": {
    "name": "ipython",
    "version": 3
   },
   "file_extension": ".py",
   "mimetype": "text/x-python",
   "name": "python",
   "nbconvert_exporter": "python",
   "pygments_lexer": "ipython3",
   "version": "3.12.7"
  }
 },
 "nbformat": 4,
 "nbformat_minor": 2
}
